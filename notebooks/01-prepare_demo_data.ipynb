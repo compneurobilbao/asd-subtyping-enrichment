{
 "cells": [
  {
   "cell_type": "markdown",
   "metadata": {},
   "source": [
    "In this notebook nwe prepare the number of subjects finally used, saving their demographic data for later uses."
   ]
  },
  {
   "cell_type": "code",
   "execution_count": 1,
   "metadata": {},
   "outputs": [],
   "source": [
    "import numpy as np\n",
    "import pandas as pd\n",
    "import matplotlib.pylab as plt\n",
    "from os.path import join as opj\n",
    "import os\n",
    "import pickle\n",
    "import shutil\n",
    "from scipy.spatial.distance import squareform"
   ]
  },
  {
   "cell_type": "code",
   "execution_count": 2,
   "metadata": {},
   "outputs": [],
   "source": [
    "data_dir = \"../data\""
   ]
  },
  {
   "cell_type": "markdown",
   "metadata": {},
   "source": [
    "Load demo data from ABIDE"
   ]
  },
  {
   "cell_type": "code",
   "execution_count": 3,
   "metadata": {},
   "outputs": [
    {
     "data": {
      "text/plain": [
       "(2226, 61)"
      ]
     },
     "execution_count": 3,
     "metadata": {},
     "output_type": "execute_result"
    }
   ],
   "source": [
    "demo_data = pd.read_csv(opj(data_dir, \"common_pheno_abide.csv\"))\n",
    "demo_data.shape"
   ]
  },
  {
   "cell_type": "markdown",
   "metadata": {},
   "source": [
    "Get list of subjects with issues during preprocessing, from the list Amaia provided"
   ]
  },
  {
   "cell_type": "code",
   "execution_count": 4,
   "metadata": {},
   "outputs": [
    {
     "data": {
      "text/plain": [
       "309"
      ]
     },
     "execution_count": 4,
     "metadata": {},
     "output_type": "execute_result"
    }
   ],
   "source": [
    "amaia_subjects_dat = pd.read_csv(opj(data_dir, \"structural.csv\"))\n",
    "subject_list = amaia_subjects_dat.sub_id.to_list()\n",
    "\n",
    "amaia_discarded_ids=set(demo_data.SUB_ID).difference(set(amaia_subjects_dat.sub_id))\n",
    "\n",
    "len(amaia_discarded_ids)"
   ]
  },
  {
   "cell_type": "markdown",
   "metadata": {},
   "source": [
    "Create new SITE ID column by merging several cohorts, following ABIDE recommendations"
   ]
  },
  {
   "cell_type": "code",
   "execution_count": 5,
   "metadata": {},
   "outputs": [],
   "source": [
    "site_names = demo_data.SITE_ID.unique()\n",
    "merged_site_names = ['CALTECH', 'CMU', 'KKI', 'LEUVEN', 'LEUVEN', \n",
    "                     'MAX_MUN', 'NYU', 'OHSU', 'OLIN', 'PITT', 'SBL', 'SDSU','STANFORD', \n",
    "                     'TCD', 'UCLA',  'UCLA', 'UM', 'UM', 'USM', \n",
    "                     'YALE', 'BNI', 'EMC', 'ETH', 'GU', 'IP', 'IU',\n",
    "                     'KKI', 'KUL_3', 'NYU', 'NYU_2', 'OHSU', 'ONRC', \n",
    "                     'SDSU', 'SU_2', 'TCD', 'UCD', 'UCLA', 'MIA_1', 'USM']\n",
    "\n",
    "demo_data[\"SITE_ID_MERGED\"] = demo_data.SITE_ID.replace(to_replace=site_names, value=merged_site_names)"
   ]
  },
  {
   "cell_type": "markdown",
   "metadata": {},
   "source": [
    "Subset of data using the list of Amaia's subjects"
   ]
  },
  {
   "cell_type": "code",
   "execution_count": 6,
   "metadata": {},
   "outputs": [
    {
     "name": "stdout",
     "output_type": "stream",
     "text": [
      "(1917, 62)\n",
      "number of cohort names 35\n",
      "After merging cohorts 26\n"
     ]
    }
   ],
   "source": [
    "demo_data_amaia = pd.merge(pd.DataFrame({'SUB_ID':subject_list}), demo_data, on=\"SUB_ID\")\n",
    "print(demo_data_amaia.shape)\n",
    "print(\"number of cohort names\",  len(demo_data_amaia.SITE_ID.unique()))\n",
    "print(\"After merging cohorts\", len(demo_data_amaia.SITE_ID_MERGED.unique()))"
   ]
  },
  {
   "cell_type": "markdown",
   "metadata": {},
   "source": [
    "Get subject IDS that had too short acquisitions"
   ]
  },
  {
   "cell_type": "code",
   "execution_count": 7,
   "metadata": {},
   "outputs": [
    {
     "data": {
      "text/plain": [
       "130"
      ]
     },
     "execution_count": 7,
     "metadata": {},
     "output_type": "execute_result"
    }
   ],
   "source": [
    "ab_I_short_ts = [int(subj.split(\"_\")[::-1][0]) for subj in pd.read_csv(opj(data_dir, \"data_I_subject2remove.txt\"), \n",
    "                                                                        header=None).iloc[:,0].values]\n",
    "\n",
    "ab_II_short_ts = [int(subj.split(\"_\")[::-1][0]) for subj in pd.read_csv(opj(data_dir, \"data_II_subject2remove.txt\"), \n",
    "                                                                       header=None).iloc[:,0].values]\n",
    "ab_short_ts = ab_I_short_ts + ab_II_short_ts\n",
    "len(ab_short_ts)"
   ]
  },
  {
   "cell_type": "markdown",
   "metadata": {},
   "source": [
    "A few other subjects that we found did not have full brain coverage when parcellating the time series,\n",
    "so they showed NaNs in the connectivity matrices"
   ]
  },
  {
   "cell_type": "code",
   "execution_count": 8,
   "metadata": {},
   "outputs": [],
   "source": [
    "not_full_atlas_cov = [51558, 50653, 50648, 50651, 50652] "
   ]
  },
  {
   "cell_type": "markdown",
   "metadata": {},
   "source": [
    "Extract subject from cohorts \"KUL_3\" and \"NYU_2\". These will be discarded because they only have ASD subjects, and combat harmonization could have problems with this"
   ]
  },
  {
   "cell_type": "code",
   "execution_count": 9,
   "metadata": {},
   "outputs": [],
   "source": [
    "kul3_subjects = demo_data_amaia[demo_data_amaia.SITE_ID_MERGED == \"KUL_3\"].SUB_ID\n",
    "nyu2_subjects = demo_data_amaia[demo_data_amaia.SITE_ID_MERGED == \"NYU_2\"].SUB_ID"
   ]
  },
  {
   "cell_type": "markdown",
   "metadata": {},
   "source": [
    "Then: remove subjects with short TS, subjects corresponding to KUL and NYU_2 and those with no full Desikan coverage"
   ]
  },
  {
   "cell_type": "code",
   "execution_count": 10,
   "metadata": {},
   "outputs": [
    {
     "name": "stdout",
     "output_type": "stream",
     "text": [
      "91\n"
     ]
    }
   ],
   "source": [
    "cond = (demo_data_amaia.SUB_ID.isin(ab_short_ts)) | \\\n",
    "(demo_data_amaia.SUB_ID.isin(kul3_subjects)) | \\\n",
    "(demo_data_amaia.SUB_ID.isin(nyu2_subjects)) | demo_data_amaia.SUB_ID.isin(not_full_atlas_cov)\n",
    "print(sum(cond))"
   ]
  },
  {
   "cell_type": "markdown",
   "metadata": {},
   "source": [
    "Filter data leaving the previous subjects out"
   ]
  },
  {
   "cell_type": "code",
   "execution_count": 11,
   "metadata": {},
   "outputs": [
    {
     "data": {
      "text/plain": [
       "(1826, 62)"
      ]
     },
     "execution_count": 11,
     "metadata": {},
     "output_type": "execute_result"
    }
   ],
   "source": [
    "demo_data_amaia_filtered = demo_data_amaia.loc[~cond,:]\n",
    "demo_data_amaia_filtered.shape"
   ]
  },
  {
   "cell_type": "markdown",
   "metadata": {},
   "source": [
    "Add motion to this dataset to filter subjects with large head motion during the scanner"
   ]
  },
  {
   "cell_type": "code",
   "execution_count": 12,
   "metadata": {},
   "outputs": [],
   "source": [
    "# Read motion parameters\n",
    "motion_params_df = pd.concat([pd.read_csv(opj(data_dir, \"data_I_mov_params.csv\"), sep=\";\"),\n",
    "                                   pd.read_csv(opj(data_dir, \"data_II_mov_params.csv\"), sep=\";\")])\n",
    "motion_params_df.columns = [col.strip() for col in motion_params_df.columns]\n",
    "motion_params_df = motion_params_df[~motion_params_df.ID.str.contains(\"Long\")] # Discard longitudinal\n",
    "motion_params_df['SUB_ID'] = list(map(lambda x: int(x.split(\"_\")[::-1][0]), motion_params_df.ID.to_list()))"
   ]
  },
  {
   "cell_type": "markdown",
   "metadata": {},
   "source": [
    "Set a very restricted threshold (0.3 mm) above which we are going to discard subjects"
   ]
  },
  {
   "cell_type": "code",
   "execution_count": 13,
   "metadata": {},
   "outputs": [
    {
     "name": "stdout",
     "output_type": "stream",
     "text": [
      "Threshold movement 0.300000\n",
      "2    884\n",
      "1    657\n",
      "Name: DX_GROUP, dtype: int64\n",
      "DX_GROUP\n",
      "1    0.152385\n",
      "2    0.134950\n",
      "Name: FD_mean, dtype: float64\n"
     ]
    }
   ],
   "source": [
    "thr = 0.3\n",
    "print(\"Threshold movement %f\" % thr)\n",
    "demo_data_amaia_filtered_fwd_03 = pd.merge(demo_data_amaia_filtered, motion_params_df, on =\"SUB_ID\")\n",
    "# Take only those with FWD < 0.3\n",
    "demo_data_amaia_filtered_fwd_03 = demo_data_amaia_filtered_fwd_03[demo_data_amaia_filtered_fwd_03.FD_mean < thr] \n",
    "\n",
    "print(demo_data_amaia_filtered_fwd_03.DX_GROUP.value_counts())\n",
    "print(demo_data_amaia_filtered_fwd_03.groupby(\"DX_GROUP\").FD_mean.mean())\n",
    "\n",
    "demo_data_amaia_filtered_fwd_03.loc[:, demo_data_amaia_filtered_fwd_03.dtypes != \"object\"] = demo_data_amaia_filtered_fwd_03.loc[:, demo_data_amaia_filtered_fwd_03.dtypes != \"object\"].apply(lambda x: [pd.NA if ii < -9000 else ii for ii in x])\n",
    "\n",
    "# Save this demographics to excel file\n",
    "demo_data_amaia_filtered_fwd_03.to_excel(opj(data_dir, \"demo_final_FD%s.xlsx\" % (str(int(thr*10)).zfill(2))), index=False)\n",
    "\n",
    "asd_subjs = demo_data_amaia_filtered_fwd_03.loc[demo_data_amaia_filtered_fwd_03.DX_GROUP==1, \"SUB_ID\"].to_numpy()\n",
    "tc_subjs = demo_data_amaia_filtered_fwd_03.loc[demo_data_amaia_filtered_fwd_03.DX_GROUP==2, \"SUB_ID\"].to_numpy()\n",
    "\n",
    "subjects_subgroups_fwd_03 = { 'asd_subjs': asd_subjs, 'tc_subjs': tc_subjs}\n",
    "\n",
    "# Save this subset of subjects to disk\n",
    "f = open(opj(data_dir, \"subjects_subgroups_FD%s.pkl\" %  (str(int(thr*10)).zfill(2))), \"wb\")\n",
    "pickle.dump(subjects_subgroups_fwd_03, f)\n",
    "f.close()"
   ]
  },
  {
   "cell_type": "markdown",
   "metadata": {},
   "source": [
    "Save IDS in the repository to make them public"
   ]
  },
  {
   "cell_type": "code",
   "execution_count": 14,
   "metadata": {},
   "outputs": [],
   "source": [
    "demo_data_amaia_filtered_fwd_03.ID.to_csv(\"../data/ABIDE_ids_used.txt\", index=False, header=None)"
   ]
  },
  {
   "cell_type": "markdown",
   "metadata": {},
   "source": [
    "### Some Descriptive stats"
   ]
  },
  {
   "cell_type": "markdown",
   "metadata": {},
   "source": [
    "Age:"
   ]
  },
  {
   "cell_type": "code",
   "execution_count": 15,
   "metadata": {},
   "outputs": [
    {
     "name": "stdout",
     "output_type": "stream",
     "text": [
      "full sample AGE\n",
      "\n",
      "count    1541.00\n",
      "mean       16.50\n",
      "std         8.82\n",
      "min         5.22\n",
      "25%        10.69\n",
      "50%        13.81\n",
      "75%        19.66\n",
      "max        64.00\n",
      "Name: AGE_AT_SCAN, dtype: float64\n"
     ]
    }
   ],
   "source": [
    "print(\"full sample AGE\")\n",
    "print(\"\")\n",
    "print(demo_data_amaia_filtered_fwd_03.AGE_AT_SCAN.describe().round(2))"
   ]
  },
  {
   "cell_type": "code",
   "execution_count": 16,
   "metadata": {},
   "outputs": [
    {
     "name": "stdout",
     "output_type": "stream",
     "text": [
      "full sample AGE\n",
      "\n",
      "count    1541.00\n",
      "mean       16.50\n",
      "std         8.82\n",
      "min         5.22\n",
      "25%        10.69\n",
      "50%        13.81\n",
      "75%        19.66\n",
      "max        64.00\n",
      "Name: AGE_AT_SCAN, dtype: float64\n"
     ]
    }
   ],
   "source": [
    "print(\"full sample AGE\")\n",
    "print(\"\")\n",
    "print(demo_data_amaia_filtered_fwd_03.AGE_AT_SCAN.describe().round(2))"
   ]
  },
  {
   "cell_type": "code",
   "execution_count": 17,
   "metadata": {},
   "outputs": [
    {
     "name": "stdout",
     "output_type": "stream",
     "text": [
      "AGE per group\n",
      "\n",
      "          count   mean   std   min    25%   50%    75%   max\n",
      "DX_GROUP                                                    \n",
      "1         657.0  16.85  9.18  5.22  10.92  14.0  19.41  59.0\n",
      "2         884.0  16.25  8.54  5.89  10.44  13.5  19.75  64.0\n"
     ]
    }
   ],
   "source": [
    "print(\"AGE per group\")\n",
    "print(\"\")\n",
    "print(demo_data_amaia_filtered_fwd_03.groupby('DX_GROUP').AGE_AT_SCAN.describe().round(2))"
   ]
  },
  {
   "cell_type": "code",
   "execution_count": 18,
   "metadata": {},
   "outputs": [
    {
     "name": "stdout",
     "output_type": "stream",
     "text": [
      "By SITE ID AGE\n",
      "\n",
      "                count   mean    std    min    25%    50%    75%    max\n",
      "SITE_ID_MERGED                                                        \n",
      "BNI              40.0  39.85  15.59  18.00  22.00  45.00  53.25  64.00\n",
      "CALTECH          37.0  27.42   9.76  17.00  20.80  22.90  34.10  56.20\n",
      "CMU              20.0  25.45   5.29  19.00  21.00  25.00  27.25  40.00\n",
      "EMC              27.0   8.40   1.09   6.33   7.95   8.52   8.86  10.66\n",
      "ETH              26.0  22.91   4.57  13.83  19.79  22.71  26.85  30.67\n",
      "GU               76.0  10.92   1.66   8.06   9.51  10.89  12.31  13.91\n",
      "IU               37.0  24.43   7.59  17.00  20.00  22.00  25.00  54.00\n",
      "KKI             205.0  10.29   1.28   8.02   9.30  10.25  11.09  12.99\n",
      "LEUVEN           61.0  18.18   4.97  12.20  14.20  16.60  22.00  32.00\n",
      "MAX_MUN          44.0  28.77  11.79   7.00  22.75  29.00  33.00  58.00\n",
      "NYU             245.0  13.82   6.74   5.22   8.90  11.69  16.31  39.10\n",
      "OHSU             83.0  10.95   2.05   7.00   9.00  11.00  12.50  15.00\n",
      "OLIN             22.0  17.41   3.70  11.00  15.00  17.50  20.75  24.00\n",
      "ONRC             18.0  22.39   3.58  18.00  19.00  22.00  25.50  29.00\n",
      "PITT             43.0  19.53   6.87  11.40  14.08  17.13  22.23  35.20\n",
      "SBL              25.0  34.08   6.41  22.00  30.00  34.00  39.00  49.00\n",
      "SDSU             86.0  13.75   2.67   8.00  11.45  13.94  16.11  18.00\n",
      "STANFORD         19.0  10.23   1.48   7.93   9.04   9.78  11.77  12.43\n",
      "TCD              73.0  16.86   3.41  10.00  14.25  16.83  19.33  25.91\n",
      "UCD              28.0  14.98   1.81  12.00  13.71  15.04  16.50  17.83\n",
      "UCLA             70.0  12.98   2.42   8.49  11.58  13.00  14.54  17.94\n",
      "UM              107.0  14.60   3.26   8.20  12.60  14.70  16.70  28.80\n",
      "USM             103.0  23.36   7.67   9.95  17.96  22.06  27.68  50.22\n",
      "YALE             46.0  12.97   2.97   7.00  10.85  13.50  15.04  17.83\n"
     ]
    }
   ],
   "source": [
    "print(\"By SITE ID AGE\")\n",
    "print(\"\")\n",
    "print(demo_data_amaia_filtered_fwd_03.groupby(\"SITE_ID_MERGED\")['AGE_AT_SCAN'].describe().round(2))"
   ]
  },
  {
   "cell_type": "markdown",
   "metadata": {},
   "source": [
    "Sex:"
   ]
  },
  {
   "cell_type": "code",
   "execution_count": 19,
   "metadata": {},
   "outputs": [
    {
     "name": "stdout",
     "output_type": "stream",
     "text": [
      "full sample Sex (1==Men, 2==Women)\n",
      "\n"
     ]
    },
    {
     "data": {
      "text/plain": [
       "1    1237\n",
       "2     304\n",
       "Name: SEX, dtype: int64"
      ]
     },
     "execution_count": 19,
     "metadata": {},
     "output_type": "execute_result"
    }
   ],
   "source": [
    "print(\"full sample Sex (1==Men, 2==Women)\")\n",
    "print(\"\")\n",
    "demo_data_amaia_filtered_fwd_03.SEX.value_counts()"
   ]
  },
  {
   "cell_type": "code",
   "execution_count": 20,
   "metadata": {},
   "outputs": [
    {
     "name": "stdout",
     "output_type": "stream",
     "text": [
      "Sex per group\n",
      "\n",
      "DX_GROUP  SEX\n",
      "1         1      565\n",
      "          2       92\n",
      "2         1      672\n",
      "          2      212\n",
      "Name: SEX, dtype: int64\n"
     ]
    }
   ],
   "source": [
    "print(\"Sex per group\")\n",
    "print(\"\")\n",
    "print(demo_data_amaia_filtered_fwd_03.groupby('DX_GROUP').SEX.value_counts())"
   ]
  },
  {
   "cell_type": "code",
   "execution_count": 21,
   "metadata": {},
   "outputs": [
    {
     "name": "stdout",
     "output_type": "stream",
     "text": [
      "Women stratified by site\n",
      "\n"
     ]
    },
    {
     "data": {
      "text/plain": [
       "SITE_ID_MERGED\n",
       "BNI          0\n",
       "CALTECH      8\n",
       "CMU          4\n",
       "EMC          4\n",
       "ETH          0\n",
       "GU          28\n",
       "IU           9\n",
       "KKI         70\n",
       "LEUVEN       7\n",
       "MAX_MUN      7\n",
       "NYU         42\n",
       "OHSU        31\n",
       "OLIN         4\n",
       "ONRC         5\n",
       "PITT         7\n",
       "SBL          0\n",
       "SDSU        15\n",
       "STANFORD     6\n",
       "TCD          0\n",
       "UCD          7\n",
       "UCLA         8\n",
       "UM          24\n",
       "USM          5\n",
       "YALE        13\n",
       "Name: SEX, dtype: int64"
      ]
     },
     "execution_count": 21,
     "metadata": {},
     "output_type": "execute_result"
    }
   ],
   "source": [
    "print(\"Women stratified by site\")\n",
    "print(\"\")\n",
    "demo_data_amaia_filtered_fwd_03.groupby(\"SITE_ID_MERGED\")['SEX'].apply(lambda x: sum(x==2))"
   ]
  },
  {
   "cell_type": "code",
   "execution_count": 22,
   "metadata": {},
   "outputs": [
    {
     "name": "stdout",
     "output_type": "stream",
     "text": [
      "Men stratified by site\n",
      "\n"
     ]
    },
    {
     "data": {
      "text/plain": [
       "SITE_ID_MERGED\n",
       "BNI          19\n",
       "CALTECH      18\n",
       "CMU           8\n",
       "EMC          15\n",
       "ETH           6\n",
       "GU           29\n",
       "IU           17\n",
       "KKI          48\n",
       "LEUVEN       26\n",
       "MAX_MUN      18\n",
       "NYU         115\n",
       "OHSU         33\n",
       "OLIN         12\n",
       "ONRC          7\n",
       "PITT         22\n",
       "SBL          13\n",
       "SDSU         42\n",
       "STANFORD     11\n",
       "TCD          33\n",
       "UCD          15\n",
       "UCLA         36\n",
       "UM           41\n",
       "USM          52\n",
       "YALE         21\n",
       "Name: DX_GROUP, dtype: int64"
      ]
     },
     "execution_count": 22,
     "metadata": {},
     "output_type": "execute_result"
    }
   ],
   "source": [
    "print(\"Men stratified by site\")\n",
    "print(\"\")\n",
    "demo_data_amaia_filtered_fwd_03.groupby(\"SITE_ID_MERGED\")['DX_GROUP'].apply(lambda x: sum(x==1))"
   ]
  },
  {
   "cell_type": "code",
   "execution_count": 23,
   "metadata": {},
   "outputs": [
    {
     "data": {
      "text/plain": [
       "count    610.00\n",
       "mean     106.13\n",
       "std       16.31\n",
       "min       41.00\n",
       "25%       95.00\n",
       "50%      107.00\n",
       "75%      118.00\n",
       "max      149.00\n",
       "Name: FIQ, dtype: float64"
      ]
     },
     "execution_count": 23,
     "metadata": {},
     "output_type": "execute_result"
    }
   ],
   "source": [
    "pd.to_numeric(demo_data_amaia_filtered_fwd_03[demo_data_amaia_filtered_fwd_03.DX_GROUP==1]['FIQ']).describe().round(2)"
   ]
  },
  {
   "cell_type": "code",
   "execution_count": 24,
   "metadata": {},
   "outputs": [
    {
     "data": {
      "text/plain": [
       "count    414.00\n",
       "mean      11.48\n",
       "std        3.86\n",
       "min        2.00\n",
       "25%        8.00\n",
       "50%       11.00\n",
       "75%       14.00\n",
       "max       23.00\n",
       "Name: ADOS_TOTAL, dtype: float64"
      ]
     },
     "execution_count": 24,
     "metadata": {},
     "output_type": "execute_result"
    }
   ],
   "source": [
    "pd.to_numeric(demo_data_amaia_filtered_fwd_03[demo_data_amaia_filtered_fwd_03.DX_GROUP==1]['ADOS_TOTAL']).describe().round(2)"
   ]
  }
 ],
 "metadata": {
  "kernelspec": {
   "display_name": "Python 3 (ipykernel)",
   "language": "python",
   "name": "python3"
  },
  "language_info": {
   "codemirror_mode": {
    "name": "ipython",
    "version": 3
   },
   "file_extension": ".py",
   "mimetype": "text/x-python",
   "name": "python",
   "nbconvert_exporter": "python",
   "pygments_lexer": "ipython3",
   "version": "3.8.13"
  }
 },
 "nbformat": 4,
 "nbformat_minor": 4
}
