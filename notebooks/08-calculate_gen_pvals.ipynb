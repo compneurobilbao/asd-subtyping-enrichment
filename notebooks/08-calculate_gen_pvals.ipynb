{
 "cells": [
  {
   "cell_type": "markdown",
   "id": "9cb89c4a",
   "metadata": {},
   "source": [
    "In this notebook we compute the association between brain transcriptomics' and the pseudo R2 maps of each subtype "
   ]
  },
  {
   "cell_type": "code",
   "execution_count": 1,
   "id": "7bce295c",
   "metadata": {},
   "outputs": [
    {
     "name": "stderr",
     "output_type": "stream",
     "text": [
      "/home/javi/anaconda3/lib/python3.8/site-packages/geopandas/_compat.py:106: UserWarning: The Shapely GEOS version (3.8.0-CAPI-1.13.1 ) is incompatible with the GEOS version PyGEOS was compiled with (3.9.1-CAPI-1.14.2). Conversions between both will be slow.\n",
      "  warnings.warn(\n"
     ]
    }
   ],
   "source": [
    "from scipy.io import loadmat\n",
    "import pandas as pd\n",
    "import numpy as np\n",
    "import libpysal\n",
    "from spreg import ML_Lag\n",
    "from spreg import t_stat\n",
    "from statsmodels.stats.multitest import multipletests"
   ]
  },
  {
   "cell_type": "markdown",
   "id": "66ebb925",
   "metadata": {},
   "source": [
    "Function to compute the association, using ML_LAG algorithm"
   ]
  },
  {
   "cell_type": "code",
   "execution_count": 2,
   "id": "24f87147",
   "metadata": {},
   "outputs": [],
   "source": [
    "def calcPvals(f, gen_mat, dist):\n",
    "    p_vals = []\n",
    "    t_vals = []\n",
    "    for single_gen_exp in gen_mat:\n",
    "        w = libpysal.weights.KNN(dist, 1)\n",
    "        w = libpysal.weights.insert_diagonal(w, np.zeros(w.n))\n",
    "\n",
    "        ml_lag_results = ML_Lag(\n",
    "            single_gen_exp[:, None], f[:, None], w, name_y=\"Gene\", name_x=[\"F\"]\n",
    "        )\n",
    "        p_vals.append(t_stat(ml_lag_results)[1][1])\n",
    "        t_vals.append(t_stat(ml_lag_results)[1][0])\n",
    "    return p_vals, t_vals"
   ]
  },
  {
   "cell_type": "markdown",
   "id": "09f624e0",
   "metadata": {},
   "source": [
    "Load the transcriptomic expression of each brain gene, the geodesic distance matrix of each region from Desikan-Killiany atlas and the pseudo R2 maps"
   ]
  },
  {
   "cell_type": "code",
   "execution_count": 3,
   "id": "298f85a3",
   "metadata": {},
   "outputs": [],
   "source": [
    "gen_exp_mat = pd.read_csv(os.path.join(\"../data\", \"gen_exp_in_LH_SP70.csv\"))\n",
    "gen_labels = gen_exp_mat[\"GeneLabel\"].values\n",
    "gen_exp = gen_exp_mat.drop(columns=[\"GeneLabel\"])\n",
    "desikan_geo_dist = pd.read_csv(os.path.join(\"../data\", \"desikan_LH_geo_dist.csv\"))\n",
    "f_mdmr = pd.read_csv(os.path.join(\"../results/desikan\", \"mdmr_rsquare_euclidean_desikan_LH.csv\"))\n",
    "subtype_name = f_mdmr.columns"
   ]
  },
  {
   "cell_type": "markdown",
   "id": "ee52f1a9",
   "metadata": {},
   "source": [
    "For each subtype, we generate a table including only the p-FDR significant genes and the t-statistic and p-FDR of each one"
   ]
  },
  {
   "cell_type": "code",
   "execution_count": 4,
   "id": "0e96e8f4",
   "metadata": {},
   "outputs": [
    {
     "name": "stderr",
     "output_type": "stream",
     "text": [
      "/home/javi/anaconda3/lib/python3.8/site-packages/libpysal/weights/weights.py:172: UserWarning: The weights matrix is not fully connected: \n",
      " There are 13 disconnected components.\n",
      "  warnings.warn(message)\n",
      "/home/javi/anaconda3/lib/python3.8/site-packages/libpysal/weights/util.py:850: UserWarning: This function is deprecated. Use fill_diagonal instead.\n",
      "  warn(\"This function is deprecated. Use fill_diagonal instead.\")\n",
      "/home/javi/anaconda3/lib/python3.8/site-packages/scipy/optimize/_minimize.py:783: RuntimeWarning: Method 'bounded' does not support relative tolerance in x; defaulting to absolute tolerance.\n",
      "  warn(\"Method 'bounded' does not support relative tolerance in x; \"\n"
     ]
    }
   ],
   "source": [
    "for idx, f_sub in enumerate(f_mdmr.values.T):\n",
    "    p, t = calcPvals(f_sub, gen_exp.values, desikan_geo_dist)\n",
    "    pfdr = multipletests(p, alpha=0.05, method=\"fdr_bh\", is_sorted=False)\n",
    "\n",
    "    gen_signif_mask = np.where(pfdr[1] < 0.05)\n",
    "    gen_signif_label = gen_labels[gen_signif_mask]\n",
    "    gen_signif_t = np.array(t)[gen_signif_mask]\n",
    "    gen_signif_pfdr = pfdr[1][gen_signif_mask]\n",
    "\n",
    "    df = pd.DataFrame(\n",
    "        {\n",
    "            \"GeneLabel\": gen_signif_label,\n",
    "            \"t-statistic\": gen_signif_t,\n",
    "            \"p-FDR\": gen_signif_pfdr,\n",
    "        },\n",
    "    )\n",
    "    df.to_csv(os.path.join(\"../results/desikan\", \n",
    "                           subtype_name[idx] + \"_r2_gen_association_results.csv\"), index=False)"
   ]
  },
  {
   "cell_type": "code",
   "execution_count": 5,
   "id": "8d86790f",
   "metadata": {},
   "outputs": [
    {
     "name": "stdout",
     "output_type": "stream",
     "text": [
      "Subtype 1, # positive genes = 195\n",
      "Subtype 1, # negative genes = 364\n"
     ]
    }
   ],
   "source": [
    "print(\"Subtype 1, # positive genes =\", \n",
    "      sum(pd.read_csv(\"../results/desikan/Subtype_1_r2_gen_association_results.csv\").iloc[:, 1]<0))\n",
    "print(\"Subtype 1, # negative genes =\", \n",
    "      sum(pd.read_csv(\"../results/desikan/Subtype_1_r2_gen_association_results.csv\").iloc[:, 1]>0))"
   ]
  },
  {
   "cell_type": "code",
   "execution_count": 6,
   "id": "e263a6d4",
   "metadata": {},
   "outputs": [
    {
     "name": "stdout",
     "output_type": "stream",
     "text": [
      "Subtype 2, # positive genes = 142\n",
      "Subtype 2, # positive genes = 180\n"
     ]
    }
   ],
   "source": [
    "print(\"Subtype 2, # positive genes =\", \n",
    "      sum(pd.read_csv(\"../results/desikan/Subtype_2_r2_gen_association_results.csv\").iloc[:, 1]<0))\n",
    "print(\"Subtype 2, # positive genes =\", \n",
    "      sum(pd.read_csv(\"../results/desikan/Subtype_2_r2_gen_association_results.csv\").iloc[:, 1]>0))"
   ]
  }
 ],
 "metadata": {
  "kernelspec": {
   "display_name": "Python 3 (ipykernel)",
   "language": "python",
   "name": "python3"
  },
  "language_info": {
   "codemirror_mode": {
    "name": "ipython",
    "version": 3
   },
   "file_extension": ".py",
   "mimetype": "text/x-python",
   "name": "python",
   "nbconvert_exporter": "python",
   "pygments_lexer": "ipython3",
   "version": "3.8.13"
  },
  "vscode": {
   "interpreter": {
    "hash": "31f2aee4e71d21fbe5cf8b01ff0e069b9275f58929596ceb00d14d90e3e16cd6"
   }
  }
 },
 "nbformat": 4,
 "nbformat_minor": 5
}
